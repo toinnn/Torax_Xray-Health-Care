{
  "nbformat": 4,
  "nbformat_minor": 0,
  "metadata": {
    "colab": {
      "provenance": [],
      "authorship_tag": "ABX9TyNtxRkPIL19LblWc5YcmrFO",
      "include_colab_link": true
    },
    "kernelspec": {
      "name": "python3",
      "display_name": "Python 3"
    },
    "language_info": {
      "name": "python"
    }
  },
  "cells": [
    {
      "cell_type": "markdown",
      "metadata": {
        "id": "view-in-github",
        "colab_type": "text"
      },
      "source": [
        "<a href=\"https://colab.research.google.com/github/toinnn/Torax_Xray-Health-Care/blob/main/Yolov8__NIH_project.ipynb\" target=\"_parent\"><img src=\"https://colab.research.google.com/assets/colab-badge.svg\" alt=\"Open In Colab\"/></a>"
      ]
    },
    {
      "cell_type": "code",
      "execution_count": null,
      "metadata": {
        "id": "ma0J1RPWvZEP"
      },
      "outputs": [],
      "source": [
        "!pip install ultralytics"
      ]
    },
    {
      "cell_type": "code",
      "source": [
        "from ultralytics import YOLO\n"
      ],
      "metadata": {
        "id": "qozOxFRrvleS"
      },
      "execution_count": null,
      "outputs": []
    },
    {
      "cell_type": "markdown",
      "source": [
        "#  Detecção de Objetos :"
      ],
      "metadata": {
        "id": "yzva7SgIwXJO"
      }
    },
    {
      "cell_type": "code",
      "source": [
        "model = YOLO(\"yolov8m.pt\")"
      ],
      "metadata": {
        "id": "r-3M-RhFvpZU"
      },
      "execution_count": null,
      "outputs": []
    },
    {
      "cell_type": "code",
      "source": [
        "results = model.predict(\"cat_dog.jpg\")\n",
        "result = results[0]\n",
        "\n",
        "box = result.boxes[0]"
      ],
      "metadata": {
        "id": "Rx7-T4Pz4NLz"
      },
      "execution_count": null,
      "outputs": []
    },
    {
      "cell_type": "markdown",
      "source": [
        "# Classificação :"
      ],
      "metadata": {
        "id": "BSWiKXbDwgTi"
      }
    },
    {
      "cell_type": "code",
      "source": [
        "model = YOLO(\"yolov8m-cls.pt\")"
      ],
      "metadata": {
        "id": "f5Cq4FG7wszJ"
      },
      "execution_count": null,
      "outputs": []
    }
  ]
}