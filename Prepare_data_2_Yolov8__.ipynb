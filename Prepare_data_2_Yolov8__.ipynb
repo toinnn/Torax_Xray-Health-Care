{
  "nbformat": 4,
  "nbformat_minor": 0,
  "metadata": {
    "colab": {
      "provenance": [],
      "authorship_tag": "ABX9TyPf7WcQ/8mP+E2KGv6PBYbh",
      "include_colab_link": true
    },
    "kernelspec": {
      "name": "python3",
      "display_name": "Python 3"
    },
    "language_info": {
      "name": "python"
    }
  },
  "cells": [
    {
      "cell_type": "markdown",
      "metadata": {
        "id": "view-in-github",
        "colab_type": "text"
      },
      "source": [
        "<a href=\"https://colab.research.google.com/github/toinnn/Torax_Xray-Health-Care/blob/main/Prepare_data_2_Yolov8__.ipynb\" target=\"_parent\"><img src=\"https://colab.research.google.com/assets/colab-badge.svg\" alt=\"Open In Colab\"/></a>"
      ]
    },
    {
      "cell_type": "code",
      "execution_count": 1,
      "metadata": {
        "colab": {
          "base_uri": "https://localhost:8080/"
        },
        "id": "fd5Kg94J5kUS",
        "outputId": "7dd9bc2f-0c58-4b1f-b7a0-587fda66d092"
      },
      "outputs": [
        {
          "output_type": "stream",
          "name": "stdout",
          "text": [
            "Mounted at /content/drive\n"
          ]
        }
      ],
      "source": [
        "from google.colab import drive\n",
        "drive.mount('/content/drive')"
      ]
    },
    {
      "cell_type": "code",
      "source": [
        "from torchvision.io import decode_png, read_image , ImageReadMode\n",
        "from PIL   import   Image\n",
        "import polars as pl\n",
        "import torch\n",
        "\n",
        "\n",
        "path_project  = \"/content/drive/Othercomputers/Meu laptop/Dataset_work_space/Torax_Xray\"\n",
        "image_dir_path = path_project + \"/images/\"\n",
        "data_intro_path = path_project + \"/Data_Entry_2017.csv\"\n",
        "label2class_path = path_project + \"/target_dict_label2class.json\"\n",
        "BB_Original_path  = path_project + \"/BBox_List_2017.csv\"\n",
        "BB_YoloFormat_path = path_project + \"/Yolo_BBox_List_2017.csv\"\n",
        "\n",
        "\n",
        "def load_image_nvjpngl_gpu(image_path):\n",
        "    \"\"\"\n",
        "    Loads an image from the specified file path using NVJPEG decoder on GPU and returns a PyTorch tensor.\n",
        "    Args:\n",
        "        image_path (str): The path to the image file.\n",
        "    Returns:\n",
        "        torch.Tensor: The PyTorch tensor representing the image.\n",
        "    \"\"\"\n",
        "    data = read_image(image_path , mode = ImageReadMode.GRAY )\n",
        "    return data.float()\n",
        "\n",
        "    tensor = decode_png(data).float()\n",
        "    return tensor\n",
        "\n",
        "def BB_NIH_2_YOLO_Format(bb):\n",
        "    x , y , w , h = bb\n",
        "    x_new = x + w/2\n",
        "    y_new = y + h/2\n",
        "\n",
        "    return x_new , y_new , w , h"
      ],
      "metadata": {
        "id": "YoKClvxu6DgL"
      },
      "execution_count": 2,
      "outputs": []
    },
    {
      "cell_type": "code",
      "source": [
        "load_image_nvjpngl_gpu('/content/drive/Othercomputers/Meu laptop/Dataset_work_space/Torax_Xray/images/00005762_004.png')"
      ],
      "metadata": {
        "colab": {
          "base_uri": "https://localhost:8080/"
        },
        "id": "coYSjYcj_7ws",
        "outputId": "84a74eff-7794-4e63-c298-476c8ceeabdc"
      },
      "execution_count": 10,
      "outputs": [
        {
          "output_type": "execute_result",
          "data": {
            "text/plain": [
              "tensor([[[  1.,   1.,   1.,  ...,   1.,   1.,   1.],\n",
              "         [  1.,   1.,   1.,  ...,   1.,   1.,   1.],\n",
              "         [  1.,   1.,   1.,  ...,   1.,   1.,   1.],\n",
              "         ...,\n",
              "         [ 97., 163., 152.,  ...,  44.,  46.,  26.],\n",
              "         [106., 179., 165.,  ...,  47.,  49.,  27.],\n",
              "         [ 53.,  89.,  81.,  ...,  23.,  23.,  13.]]])"
            ]
          },
          "metadata": {},
          "execution_count": 10
        }
      ]
    },
    {
      "cell_type": "code",
      "source": [
        "# Data_Entry  = pl.read_csv(Data_Entry_path)\n",
        "# Data_Entry = {row['Image Index'] : row['Finding Labels'].split(\"|\") for row in Data_Entry[['Image Index' ,'Finding Labels' ]].iter_rows(named=True)}\n",
        "\n",
        "BB_Yolo  = []\n",
        "BB_Entry = pl.read_csv(BB_Original_path)\n",
        "\n",
        "for row in BB_Entry[['Image Index' ,'Finding Label', \"Bbox [x\" , \"y\" , \"w\" , \"h]\" ]].iter_rows(named=True) :\n",
        "    BB_Yolo += [ {'Image Index' : row['Image Index'] , 'Finding Label' : row['Finding Label'] , \"Bounding Box\" : \"{},{},{},{}\".format(*( BB_NIH_2_YOLO_Format(  (row[\"Bbox [x\"]  , row[\"y\"] , row[\"w\"] , row[\"h]\"])  ) )) } ]\n",
        "\n",
        "BB_Yolo = pl.DataFrame(BB_Yolo)\n",
        "BB_Yolo.write_csv( BB_YoloFormat_path )"
      ],
      "metadata": {
        "id": "RHOV-kU06-IK"
      },
      "execution_count": 15,
      "outputs": []
    },
    {
      "cell_type": "code",
      "source": [
        "print(BB_Yolo)"
      ],
      "metadata": {
        "colab": {
          "base_uri": "https://localhost:8080/"
        },
        "id": "i860d4HlPUHh",
        "outputId": "5f26619c-3112-48b2-d7ab-6fd96d23bae3"
      },
      "execution_count": 16,
      "outputs": [
        {
          "output_type": "stream",
          "name": "stdout",
          "text": [
            "shape: (984, 3)\n",
            "┌──────────────────┬───────────────┬───────────────────────────────────┐\n",
            "│ Image Index      ┆ Finding Label ┆ Bounding Box                      │\n",
            "│ ---              ┆ ---           ┆ ---                               │\n",
            "│ str              ┆ str           ┆ str                               │\n",
            "╞══════════════════╪═══════════════╪═══════════════════════════════════╡\n",
            "│ 00013118_008.png ┆ Atelectasis   ┆ 268.47457627118655,586.612437102… │\n",
            "│ 00014716_007.png ┆ Atelectasis   ┆ 778.8474576271185,288.2892611228… │\n",
            "│ 00029817_009.png ┆ Atelectasis   ┆ 299.38983050847446,425.527691340… │\n",
            "│ 00014687_001.png ┆ Atelectasis   ┆ 796.745762711864,522.61243710275… │\n",
            "│ …                ┆ …             ┆ …                                 │\n",
            "│ 00025769_001.png ┆ Atelectasis   ┆ 753.607118055556,604.34963541666… │\n",
            "│ 00016837_002.png ┆ Atelectasis   ┆ 276.87822916666653,706.180746527… │\n",
            "│ 00020124_003.png ┆ Atelectasis   ┆ 297.358229166667,632.22519097222… │\n",
            "│ 00026920_000.png ┆ Atelectasis   ┆ 403.74045138888897,472.936302083… │\n",
            "└──────────────────┴───────────────┴───────────────────────────────────┘\n"
          ]
        }
      ]
    }
  ]
}