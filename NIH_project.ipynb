{
  "nbformat": 4,
  "nbformat_minor": 0,
  "metadata": {
    "colab": {
      "provenance": [],
      "gpuType": "T4",
      "mount_file_id": "1Cw48i_eju2vBsZpDGRUmJ7MB6pJGh5_0",
      "authorship_tag": "ABX9TyMc/dZLhs6ctDCKu4W5vLnn",
      "include_colab_link": true
    },
    "kernelspec": {
      "name": "python3",
      "display_name": "Python 3"
    },
    "language_info": {
      "name": "python"
    },
    "accelerator": "GPU"
  },
  "cells": [
    {
      "cell_type": "markdown",
      "metadata": {
        "id": "view-in-github",
        "colab_type": "text"
      },
      "source": [
        "<a href=\"https://colab.research.google.com/github/toinnn/Torax_Xray-Health-Care/blob/main/NIH_project.ipynb\" target=\"_parent\"><img src=\"https://colab.research.google.com/assets/colab-badge.svg\" alt=\"Open In Colab\"/></a>"
      ]
    },
    {
      "cell_type": "code",
      "source": [
        "\n",
        "from google.colab import drive\n",
        "drive.mount('/content/drive')\n"
      ],
      "metadata": {
        "colab": {
          "base_uri": "https://localhost:8080/"
        },
        "id": "zLzQzBHuHA0J",
        "outputId": "744e7d6c-cf71-40db-f0c3-e2d39e986abe"
      },
      "execution_count": 1,
      "outputs": [
        {
          "output_type": "stream",
          "name": "stdout",
          "text": [
            "Drive already mounted at /content/drive; to attempt to forcibly remount, call drive.mount(\"/content/drive\", force_remount=True).\n"
          ]
        }
      ]
    },
    {
      "cell_type": "code",
      "source": [
        "import os\n",
        "\n",
        "# Obtém o número de núcleos da CPU\n",
        "num_cores = os.cpu_count()\n",
        "\n",
        "# Obtém informações sobre a CPU\n",
        "cpu_info = !lscpu\n",
        "\n",
        "# Imprime o número de núcleos e informações sobre a CPU\n",
        "print(f\"Número de núcleos da CPU: {num_cores}\")\n",
        "# print(\"Informações sobre a CPU:\")\n",
        "# for line in cpu_info:\n",
        "#     print(line)"
      ],
      "metadata": {
        "colab": {
          "base_uri": "https://localhost:8080/"
        },
        "id": "RusLtc5u4zyz",
        "outputId": "db9948aa-c8c7-4a8e-c21a-5cc09bdf4f05"
      },
      "execution_count": 2,
      "outputs": [
        {
          "output_type": "stream",
          "name": "stdout",
          "text": [
            "Número de núcleos da CPU: 2\n"
          ]
        }
      ]
    },
    {
      "cell_type": "code",
      "source": [
        "Git_Dir    = \"/content/drive/MyDrive/Github_Dir/Torax_Xray-Health-Care\" #https://github.com/toinnn/Torax_Xray-Health-Care\n",
        "Neural_Dir = \"Torax_Xray-Health-Care\"\n",
        "with open(\"/content/drive/MyDrive/Github_Dir/acess_Token_Git.txt\",\"r\") as file:\n",
        "    acess_Token_Git = file.read()\n",
        "Git_Path   = \"https://\"+ acess_Token_Git + \"@github.com/toinnn/\" + Neural_Dir + \".git\"\n",
        "# Git_CB_Path= \"https://\"+ acess_Token_Git + \"@github.com/toinnn/\" + \"Chat_Bot\" + \".git\""
      ],
      "metadata": {
        "id": "hGjEYWH-WQFY"
      },
      "execution_count": 3,
      "outputs": []
    },
    {
      "cell_type": "code",
      "source": [
        "!git clone \"{Git_Path}\" ./temp/Torax_Xray-Health-Care\n",
        "# !git clone \"{Git_CB_Path}\" ./temp/Chat_Bot\n",
        "\n",
        "!mv ./temp/* \"{Git_Dir}\"\n",
        "!rm -rf ./temp\n",
        "\n",
        "!rsync -aP \"{Git_Dir}\"/*  ./\n",
        "# #!ln -s \"/content/drive/MyDrive/Github_Dir/Chat_Bot\" + Neural_Dir NLP"
      ],
      "metadata": {
        "colab": {
          "base_uri": "https://localhost:8080/"
        },
        "id": "4L25_RTrWadA",
        "outputId": "d752b487-ccbb-43fb-9dc5-9b33f2e8e98e"
      },
      "execution_count": 4,
      "outputs": [
        {
          "output_type": "stream",
          "name": "stdout",
          "text": [
            "Cloning into './temp/Torax_Xray-Health-Care'...\n",
            "remote: Enumerating objects: 235, done.\u001b[K\n",
            "remote: Total 235 (delta 0), reused 0 (delta 0), pack-reused 235\u001b[K\n",
            "Receiving objects: 100% (235/235), 1.21 MiB | 38.67 MiB/s, done.\n",
            "Resolving deltas: 100% (129/129), done.\n",
            "mv: inter-device move failed: './temp/Torax_Xray-Health-Care' to '/content/drive/MyDrive/Github_Dir/Torax_Xray-Health-Care/Torax_Xray-Health-Care'; unable to remove target: Directory not empty\n",
            "sending incremental file list\n",
            "Torax_Xray-Health-Care/\n"
          ]
        }
      ]
    },
    {
      "cell_type": "code",
      "source": [
        "%cd \"/content/{Neural_Dir}\"\n",
        "# %cd \"/content/drive/MyDrive/Github_Dir/Torax_Xray-Health-Care\"\n",
        "\n",
        "# %cd /content/Chat_Bot"
      ],
      "metadata": {
        "id": "IJalNV5aW1u6",
        "colab": {
          "base_uri": "https://localhost:8080/"
        },
        "outputId": "ddbcf7d1-5066-4538-8a08-a51652f44317"
      },
      "execution_count": 5,
      "outputs": [
        {
          "output_type": "stream",
          "name": "stdout",
          "text": [
            "/content/Torax_Xray-Health-Care\n"
          ]
        }
      ]
    },
    {
      "cell_type": "code",
      "source": [
        "\n",
        "def image_i_path(id):\n",
        "    if id <= 4999 :\n",
        "        i = 1\n",
        "    elif id <=  14999 :\n",
        "        i = 2\n",
        "    elif id <=  24999 :\n",
        "        i = 3\n",
        "    elif id <=  34999 :#24999 + 10000:\n",
        "        i = 4\n",
        "    elif id <=  44999 : #24999 + 9829:\n",
        "        i = 5\n",
        "    elif id <=  54999 : #24999 + 9829:\n",
        "        i = 6\n",
        "    elif id <=  64999 : #24999 + 9829:\n",
        "        i = 7\n",
        "    elif id <=  74999 : #24999 + 9829:\n",
        "        i = 8\n",
        "    elif id <=  84999 : #24999 + 9829:\n",
        "        i = 9\n",
        "    elif id <=  94999 : #24999 + 9829:\n",
        "        i = 10\n",
        "    elif id <= 104999 : #24999 + 9829:\n",
        "        i = 11\n",
        "    elif id <= 104999 + 7121 : #24999 + 9829:\n",
        "        i = 12\n",
        "    if i < 10 :\n",
        "      return  f\"/content/drive/MyDrive/X-ray_2/Dataset/images_00{i}/images\"\n",
        "    else :\n",
        "      return  f\"/content/drive/MyDrive/X-ray_2/Dataset/images_0{i}/images\""
      ],
      "metadata": {
        "id": "vowbpNzzV4ZL"
      },
      "execution_count": 6,
      "outputs": []
    },
    {
      "cell_type": "code",
      "source": [
        "from Transformer_Decoder import decoder , Trainer\n",
        "import torch\n",
        "import torch.nn as nn\n",
        "# from Transformer_Decoder import decoder , Trainer\n",
        "from torch.utils.data import DataLoader , Dataset\n",
        "from torch.nn.utils.rnn import pad_sequence\n",
        "import json\n",
        "# from torchvision.io.image import decode_png, read_image\n",
        "from torchvision.io import decode_png, read_image , ImageReadMode\n",
        "import torchvision.transforms as T\n",
        "import polars as pl\n",
        "from PIL import Image\n",
        "import numpy as np\n",
        "import pickle\n",
        "\n",
        "\n",
        "def load_image_nvjpngl_gpu(image_path):\n",
        "    \"\"\"\n",
        "    Loads an image from the specified file path using NVJPEG decoder on GPU and returns a PyTorch tensor.\n",
        "    Args:\n",
        "        image_path (str): The path to the image file.\n",
        "    Returns:\n",
        "        torch.Tensor: The PyTorch tensor representing the image.\n",
        "    \"\"\"\n",
        "    data = read_image(image_path , mode = ImageReadMode.GRAY )\n",
        "    return data.float()\n",
        "    # print(data)\n",
        "    tensor = decode_png(data).float()#.to(\"cuda\")\n",
        "    return tensor\n",
        "def meu_collate(batch):\n",
        "    entradas, saidas = zip(*batch)\n",
        "    # Pad nas sequências de entrada\n",
        "    entradas_padded = pad_sequence(entradas, batch_first=True, padding_value=0)\n",
        "\n",
        "    # Pad nas sequências de saída\n",
        "    saidas_padded = pad_sequence(saidas, batch_first=True, padding_value=0)\n",
        "\n",
        "    return entradas_padded, saidas_padded\n",
        "    # return pad_sequence([a, b, c])\n",
        "class dataset_NIH_Chest(Dataset):\n",
        "    'Characterizes a dataset for PyTorch'\n",
        "    def __init__(self, list_IDs : list[str] , Data_Entry_path : str , image_dir_path : str , label2class_path : str , max_label_lengh : int ):\n",
        "        'Initialization'\n",
        "        # self.labels = labels\n",
        "        self.list_IDs = tuple(list_IDs) #Lista contendo os nomes das imagens\n",
        "        self.image_dir_path = image_dir_path #string com o path da pasta que contem as imagens de input\n",
        "        self.Data_Entry  = pl.read_csv(Data_Entry_path)\n",
        "        self.label2class = json.load(open(label2class_path , \"rb\"))\n",
        "        # self.y_len_max = max_label_lengh + 1\n",
        "        # for row in data_intro[['Image Index' ,'Finding Labels' ]].iter_rows(named=True) :\n",
        "        #     print({row['Image Index'] : row['Finding Labels'].split(\"|\") })\n",
        "        #     raise\n",
        "        self.Data_Entry = {row['Image Index'] : row['Finding Labels'].split(\"|\") for row in self.Data_Entry[['Image Index' ,'Finding Labels' ]].iter_rows(named=True)}\n",
        "        \"\"\"for row in data_intro[['Image Index' ,'Finding Labels' ]].iter_rows(named=True) :\n",
        "            if max_label_lengh < len( row['Finding Labels'].split(\"|\")  )  : \"\"\"\n",
        "        # keys = tuple(self.Data_Entry.keys())\n",
        "        # self.name_2_index = { keys[i] : i+1  for i in range(len(keys)) }\n",
        "\n",
        "\n",
        "    def __len__(self):\n",
        "        'Denotes the total number of samples'\n",
        "        return len(self.list_IDs)\n",
        "\n",
        "    def __getitem__(self, index):\n",
        "        'Generates one sample of data'\n",
        "        # Select sample\n",
        "        ID = self.list_IDs[index]\n",
        "        # linha_encontrada = self.Data_Entry.filter(( self.Data_Entry['Image Index'] == self.list_IDs[index] ) )\n",
        "        # linha_encontrada['Finding Labels'].split(\"|\")\n",
        "\n",
        "        y = torch.tensor([ int(self.label2class[i]) for i in self.Data_Entry[ID]] ).view(-1, 1) #linha_encontrada['Finding Labels'][0].split(\"|\") ]).view(-1, 1)\n",
        "\n",
        "\n",
        "\n",
        "        # aux = torch.zeros( self.y_len_max - y.shape[0]  , 1)\n",
        "        aux = torch.zeros( 1  , 1)\n",
        "        y = torch.cat([y , aux] , dim = 0)\n",
        "\n",
        "        # Load data and get label\n",
        "        X = load_image_nvjpngl_gpu(self.image_dir_path + self.list_IDs[index]) #torch.load( self.image_dir_path + self.list_IDs[index] )\n",
        "\n",
        "\n",
        "        # path = image_i_path( self.name_2_index[ID] ) + \"/\" + ID\n",
        "        # X = load_image_nvjpngl_gpu(path)\n",
        "\n",
        "\n",
        "        return X, y\n",
        "\n",
        "\n",
        "class my_model(nn.Module):\n",
        "    def __init__(self ,  device : torch.device = torch.device(\"cpu\")) -> None:\n",
        "        super(my_model , self  ).__init__()\n",
        "        vits14 = torch.hub.load('facebookresearch/dinov2', 'dinov2_vitb14')\n",
        "        # vits14.eval()\n",
        "        # print(vits14.eval())\n",
        "        self.encoder = vits14.to(device) #EU NÃO LEMBRO QUANTO DEVERIA SER O MODEL_DIM !!!!!\n",
        "        self.decoder = decoder(model_dim = 768 ,heads = 8 ,num_layers = 8 , num_Classes = 16 , device = device)\n",
        "        self.device  = device\n",
        "        # self.transform_image = T.Compose([T.Resize(244), T.CenterCrop(224), T.Normalize([0.5], [0.5])] )\n",
        "        self.transform_image = T.Compose([T.Resize(224),  T.Normalize([0.5], [0.5])] )\n",
        "\n",
        "    def setDevice(self , device : torch.device) :\n",
        "        self.encoder = self.encoder.to( device )\n",
        "        self.decoder.setDevice( device )\n",
        "        return\n",
        "\n",
        "\n",
        "    def forward_fit(self, image  , max_lengh = 100):\n",
        "        # print(f\"Passou do Encoder image : { image.shape}\")\n",
        "        img2 = []\n",
        "        for img in image :\n",
        "            img = img.view(1, img.shape[0] , img.shape[1])\n",
        "            img = torch.cat( [img,img,img] , dim = 0 )\n",
        "            # print(f\"img.shape = {img.shape}\")\n",
        "            # print(f\"trasnform : {self.transform_image( img  )[:3].unsqueeze(0).shape }\")\n",
        "            img2 += [self.transform_image( img )[:3].unsqueeze(0) ]\n",
        "        # image = [ self.encoder(self.transform_image( img.view(1 , img.shape[0] , img.shape[1]))[:3].unsqueeze(0) ).view(1,1,-1)     for img in image]\n",
        "        image = [ self.encoder(img).view(1 , 1 , -1) for img in img2 ]\n",
        "        enc   = torch.cat(image , dim = 0 )\n",
        "        # image = self.transform_image(image)[:3].unsqueeze(0)\n",
        "        # print(f\"Passou do Encoder image : {image.shape}\")\n",
        "        # enc = self.encoder(image)\n",
        "        # print(f\"Passou do Encoder enc : {enc.shape}\")\n",
        "        return self.decoder.forward_fit(enc , enc , max_lengh)\n",
        "\n",
        "    def forward(self, image  , max_lengh = 100):\n",
        "        # image = self.transform_image(image)[:3].unsqueeze(0)\n",
        "        # enc = self.encoder(image)\n",
        "\n",
        "        img2 = []\n",
        "        for img in image :\n",
        "            img = img.view(1, img.shape[0] , img.shape[1])\n",
        "            img = torch.cat( [img,img,img] , dim = 0 )\n",
        "            # print(f\"img.shape = {img.shape}\")\n",
        "            # print(f\"trasnform : {self.transform_image( img  )[:3].unsqueeze(0).shape }\")\n",
        "            img2 += [self.transform_image( img )[:3].unsqueeze(0) ]\n",
        "        # image = [ self.encoder(self.transform_image( img.view(1 , img.shape[0] , img.shape[1]))[:3].unsqueeze(0) ).view(1,1,-1)     for img in image]\n",
        "        image = [ self.encoder(img).view(1 , 1 , -1) for img in img2 ]\n",
        "        enc   = torch.cat(image , dim = 0 )\n",
        "\n",
        "        return self.decoder(enc , enc , max_lengh)\n",
        "\n",
        "\n"
      ],
      "metadata": {
        "id": "oiJQ5ozfmOu5"
      },
      "execution_count": 7,
      "outputs": []
    },
    {
      "cell_type": "code",
      "source": [
        "if __name__ == '__main__':\n",
        "\n",
        "    max_label_lengh = 9\n",
        "    params = {'batch_size': 30   ,\n",
        "        'shuffle'         : True ,\n",
        "        'num_workers'     : 8    ,\n",
        "        \"collate_fn\"      : meu_collate}\n",
        "\n",
        "    path_project  = \"/content/drive/Othercomputers/Meu laptop/Dataset_work_space/Torax_Xray\"\n",
        "    image_dir_path = path_project + \"/images/\"\n",
        "    data_intro_path = path_project + \"/Data_Entry_2017.csv\"\n",
        "    label2class_path = path_project + \"/target_dict_label2class.json\"\n",
        "\n",
        "\n",
        "\n",
        "    train_path = path_project + \"/train_val_list.txt\"\n",
        "    test_path  = path_project + \"/test_list.txt\"\n",
        "\n",
        "    train_id = [i.replace(\"\\n\" , \"\") for i in open(train_path , \"r\").readlines() ][:330]\n",
        "    test_id  = [i.replace(\"\\n\" , \"\") for i in open(test_path , \"r\" ).readlines() ][:350]\n",
        "\n",
        "    training_set = dataset_NIH_Chest(train_id , data_intro_path , image_dir_path  , label2class_path , max_label_lengh )\n",
        "    training_loader = DataLoader(training_set  , **params)\n",
        "\n",
        "    test_set = dataset_NIH_Chest(test_id , data_intro_path , image_dir_path  , label2class_path , max_label_lengh )\n",
        "    test_loader = DataLoader(test_set, **params)\n",
        "\n",
        "\n",
        "\n",
        "\n",
        "    model   = my_model(torch.device(\"cuda\"))\n",
        "    trainer = Trainer(model , torch.device(\"cuda\") )\n",
        "    model , loss  = trainer.fit(training_loader  , 0.05 , 1 , 1 , test_dataloader = test_loader )\n",
        "\n",
        "    path_2_counter = \"/content/drive/MyDrive/Github_Dir/models_saved.json\"\n",
        "\n",
        "    with open(path_2_counter , \"r\") as arquivo_json:\n",
        "        counter = json.load(arquivo_json)\n",
        "    new_id = int(counter[\"ID_atual\"])\n",
        "\n",
        "    path_2_save = f\"/content/drive/MyDrive/Github_Dir/xRay_model_{new_id}_loss_{loss}.model\"\n",
        "\n",
        "    try:\n",
        "        with open(path_2_save, \"wb\") as arquivo:\n",
        "            pickle.dump(model, arquivo)\n",
        "    except FileNotFoundError:\n",
        "        with open(path_2_save, \"xb\") as arquivo:\n",
        "            pickle.dump(model, arquivo)\n",
        "\n",
        "    counter[\"ID_atual\"] = f\"{new_id + 1}\"\n",
        "\n",
        "    with open(path_2_counter , \"w\") as arquivo_json:\n",
        "        json.dump(counter , arquivo_json)\n"
      ],
      "metadata": {
        "id": "ecDQjXlifOEl",
        "colab": {
          "base_uri": "https://localhost:8080/"
        },
        "outputId": "431517c0-a438-4eaa-aedc-7d4a18a7cb16"
      },
      "execution_count": 10,
      "outputs": [
        {
          "output_type": "stream",
          "name": "stderr",
          "text": [
            "/usr/local/lib/python3.10/dist-packages/torch/utils/data/dataloader.py:557: UserWarning: This DataLoader will create 8 worker processes in total. Our suggested max number of worker in current system is 2, which is smaller than what this DataLoader is going to create. Please be aware that excessive worker creation might get DataLoader running slow or even freeze, lower the worker number to avoid potential slowness/freeze if necessary.\n",
            "  warnings.warn(_create_warning_msg(\n",
            "Using cache found in /root/.cache/torch/hub/facebookresearch_dinov2_main\n",
            "/root/.cache/torch/hub/facebookresearch_dinov2_main/dinov2/layers/swiglu_ffn.py:51: UserWarning: xFormers is not available (SwiGLU)\n",
            "  warnings.warn(\"xFormers is not available (SwiGLU)\")\n",
            "/root/.cache/torch/hub/facebookresearch_dinov2_main/dinov2/layers/attention.py:33: UserWarning: xFormers is not available (Attention)\n",
            "  warnings.warn(\"xFormers is not available (Attention)\")\n",
            "/root/.cache/torch/hub/facebookresearch_dinov2_main/dinov2/layers/block.py:40: UserWarning: xFormers is not available (Block)\n",
            "  warnings.warn(\"xFormers is not available (Block)\")\n"
          ]
        },
        {
          "output_type": "stream",
          "name": "stdout",
          "text": [
            "chegou aqui\n",
            "chegou aqui\n",
            "chegou aqui\n",
            "chegou aqui\n",
            "chegou aqui\n",
            "chegou aqui\n",
            "chegou aqui\n",
            "chegou aqui\n",
            "chegou aqui\n",
            "chegou aqui\n",
            "chegou aqui\n",
            "chegou aqui\n",
            "chegou aqui\n",
            "chegou aqui\n",
            "chegou aqui\n",
            "chegou aqui\n",
            "Age atual 0\n"
          ]
        },
        {
          "output_type": "stream",
          "name": "stderr",
          "text": [
            "/usr/local/lib/python3.10/dist-packages/torchvision/transforms/functional.py:1603: UserWarning: The default value of the antialias parameter of all the resizing transforms (Resize(), RandomResizedCrop(), etc.) will change from None to True in v0.17, in order to be consistent across the PIL and Tensor backends. To suppress this warning, directly pass antialias=True (recommended, future default), antialias=None (current default, which means False for Tensors and True for PIL), or antialias=False (only works on Tensors - PIL will still use antialiasing). This also applies if you are using the inference transforms from the models weights: update the call to weights.transforms(antialias=True).\n",
            "  warnings.warn(\n"
          ]
        },
        {
          "output_type": "stream",
          "name": "stdout",
          "text": [
            " ctd atual 0  samples processados 0\n",
            "out.shape = torch.Size([30, 16, 5]) , y.shape = torch.Size([30, 5])\n",
            "loss : 0.01830989308655262\n",
            "Pré backward\n",
            "Pós backward\n",
            " ctd atual 1  samples processados 30\n",
            "out.shape = torch.Size([30, 16, 4]) , y.shape = torch.Size([30, 4])\n",
            "loss : 0.023540765047073364\n",
            "Pré backward\n",
            "Pós backward\n",
            "lossTestList : [0.03428571428571429]\n",
            "bestLossValue = inf\n",
            "Novo melhor\n",
            "Objeto salvo em best_model_in_test.pickle\n",
            "Saiu do Melhor\n",
            " ctd atual 2  samples processados 60\n",
            "out.shape = torch.Size([30, 16, 5]) , y.shape = torch.Size([30, 5])\n",
            "loss : 0.01876162923872471\n",
            "Pré backward\n",
            "Pós backward\n",
            " ctd atual 3  samples processados 90\n",
            "out.shape = torch.Size([30, 16, 4]) , y.shape = torch.Size([30, 4])\n",
            "loss : 0.018330121412873268\n",
            "Pré backward\n",
            "Pós backward\n",
            "lossTestList : [0.03428571428571429, 0.02991746031746032]\n",
            "bestLossValue = 0.03428571428571429\n",
            "Novo melhor\n",
            "Objeto salvo em best_model_in_test.pickle\n",
            "Saiu do Melhor\n",
            " ctd atual 4  samples processados 120\n",
            "out.shape = torch.Size([30, 16, 5]) , y.shape = torch.Size([30, 5])\n",
            "loss : 0.01427509170025587\n",
            "Pré backward\n",
            "Pós backward\n",
            " ctd atual 5  samples processados 150\n",
            "out.shape = torch.Size([30, 16, 4]) , y.shape = torch.Size([30, 4])\n",
            "loss : 0.0182605292648077\n",
            "Pré backward\n",
            "Pós backward\n",
            "lossTestList : [0.03428571428571429, 0.02991746031746032, 0.029740476190476192]\n",
            "bestLossValue = 0.02991746031746032\n",
            "Novo melhor\n",
            "Objeto salvo em best_model_in_test.pickle\n",
            "Saiu do Melhor\n",
            " ctd atual 6  samples processados 180\n",
            "out.shape = torch.Size([30, 16, 4]) , y.shape = torch.Size([30, 4])\n",
            "loss : 0.018052196130156517\n",
            "Pré backward\n",
            "Pós backward\n",
            " ctd atual 7  samples processados 210\n",
            "out.shape = torch.Size([30, 16, 6]) , y.shape = torch.Size([30, 6])\n",
            "loss : 0.011741592548787594\n",
            "Pré backward\n",
            "Pós backward\n",
            "lossTestList : [0.03428571428571429, 0.02991746031746032, 0.029740476190476192, 0.029787301587301585]\n",
            "bestLossValue = 0.029740476190476192\n",
            " ctd atual 8  samples processados 240\n",
            "out.shape = torch.Size([30, 16, 4]) , y.shape = torch.Size([30, 4])\n",
            "loss : 0.018121639266610146\n",
            "Pré backward\n",
            "Pós backward\n",
            " ctd atual 9  samples processados 270\n",
            "out.shape = torch.Size([30, 16, 4]) , y.shape = torch.Size([30, 4])\n",
            "loss : 0.018607748672366142\n",
            "Pré backward\n",
            "Pós backward\n",
            "lossTestList : [0.03428571428571429, 0.02991746031746032, 0.029740476190476192, 0.029787301587301585, 0.029611111111111116]\n",
            "bestLossValue = 0.029740476190476192\n",
            "Novo melhor\n",
            "Objeto salvo em best_model_in_test.pickle\n",
            "Saiu do Melhor\n",
            " ctd atual 10  samples processados 300\n",
            "out.shape = torch.Size([30, 16, 4]) , y.shape = torch.Size([30, 4])\n",
            "loss : 0.018052196130156517\n",
            "Pré backward\n",
            "Pós backward\n",
            "lossTestList : [0.03428571428571429, 0.02991746031746032, 0.029740476190476192, 0.029787301587301585, 0.029611111111111116, 0.029701587301587302]\n",
            "bestLossValue = 0.029611111111111116\n",
            "O melhor resultado de teste foi  0.029611111111111116\n",
            "Objeto carregado de best_model_in_test.pickle\n"
          ]
        }
      ]
    },
    {
      "cell_type": "code",
      "source": [
        "load_image_nvjpngl_gpu('/content/drive/Othercomputers/Meu laptop/Dataset_work_space/Torax_Xray/images/00005762_004.png')\n",
        "# load_image_pil_accelerated('/content/drive/Othercomputers/Meu laptop/Dataset_work_space/Torax_Xray/images/00005762_004.png')"
      ],
      "metadata": {
        "colab": {
          "base_uri": "https://localhost:8080/"
        },
        "id": "Yx980fiIY82R",
        "outputId": "76febe69-8a32-4074-c7a0-82f33bf47449"
      },
      "execution_count": 9,
      "outputs": [
        {
          "output_type": "execute_result",
          "data": {
            "text/plain": [
              "tensor([[[  1.,   1.,   1.,  ...,   1.,   1.,   1.],\n",
              "         [  1.,   1.,   1.,  ...,   1.,   1.,   1.],\n",
              "         [  1.,   1.,   1.,  ...,   1.,   1.,   1.],\n",
              "         ...,\n",
              "         [ 97., 163., 152.,  ...,  44.,  46.,  26.],\n",
              "         [106., 179., 165.,  ...,  47.,  49.,  27.],\n",
              "         [ 53.,  89.,  81.,  ...,  23.,  23.,  13.]]])"
            ]
          },
          "metadata": {},
          "execution_count": 9
        }
      ]
    },
    {
      "cell_type": "code",
      "source": [
        "len(test_id)"
      ],
      "metadata": {
        "colab": {
          "base_uri": "https://localhost:8080/"
        },
        "id": "rfXdPqCTgsyh",
        "outputId": "a3147097-2e00-4fd8-93ad-d50f37844129"
      },
      "execution_count": null,
      "outputs": [
        {
          "output_type": "execute_result",
          "data": {
            "text/plain": [
              "25596"
            ]
          },
          "metadata": {},
          "execution_count": 12
        }
      ]
    },
    {
      "cell_type": "code",
      "source": [
        "vits14 = torch.hub.load('facebookresearch/dinov2', 'dinov2_vitb14')"
      ],
      "metadata": {
        "id": "E2u6NuL80DlG",
        "outputId": "2da9dce2-c046-4544-baa2-6a50d848fa83",
        "colab": {
          "base_uri": "https://localhost:8080/"
        }
      },
      "execution_count": null,
      "outputs": [
        {
          "output_type": "stream",
          "name": "stderr",
          "text": [
            "Downloading: \"https://github.com/facebookresearch/dinov2/zipball/main\" to /root/.cache/torch/hub/main.zip\n",
            "/root/.cache/torch/hub/facebookresearch_dinov2_main/dinov2/layers/swiglu_ffn.py:51: UserWarning: xFormers is not available (SwiGLU)\n",
            "  warnings.warn(\"xFormers is not available (SwiGLU)\")\n",
            "/root/.cache/torch/hub/facebookresearch_dinov2_main/dinov2/layers/attention.py:33: UserWarning: xFormers is not available (Attention)\n",
            "  warnings.warn(\"xFormers is not available (Attention)\")\n",
            "/root/.cache/torch/hub/facebookresearch_dinov2_main/dinov2/layers/block.py:40: UserWarning: xFormers is not available (Block)\n",
            "  warnings.warn(\"xFormers is not available (Block)\")\n",
            "Downloading: \"https://dl.fbaipublicfiles.com/dinov2/dinov2_vitb14/dinov2_vitb14_pretrain.pth\" to /root/.cache/torch/hub/checkpoints/dinov2_vitb14_pretrain.pth\n",
            "100%|██████████| 330M/330M [00:02<00:00, 169MB/s]\n"
          ]
        }
      ]
    },
    {
      "cell_type": "code",
      "source": [
        "import pickle\n",
        "\n",
        "\n",
        "path = \"/content/xRay_model_1_loss_0.03098666666666666.model\"\n",
        "with open(path, 'rb') as file:\n",
        "    # model = pickle.load(file)\n",
        "    model = pickle.load(file)\n"
      ],
      "metadata": {
        "colab": {
          "base_uri": "https://localhost:8080/",
          "height": 373
        },
        "id": "hixJRzkWyFrj",
        "outputId": "e5381631-a3cb-4175-e9d4-4e83e8129443"
      },
      "execution_count": null,
      "outputs": [
        {
          "output_type": "error",
          "ename": "RuntimeError",
          "evalue": "ignored",
          "traceback": [
            "\u001b[0;31m---------------------------------------------------------------------------\u001b[0m",
            "\u001b[0;31mRuntimeError\u001b[0m                              Traceback (most recent call last)",
            "\u001b[0;32m<ipython-input-11-acedb904f3d5>\u001b[0m in \u001b[0;36m<cell line: 5>\u001b[0;34m()\u001b[0m\n\u001b[1;32m      5\u001b[0m \u001b[0;32mwith\u001b[0m \u001b[0mopen\u001b[0m\u001b[0;34m(\u001b[0m\u001b[0mpath\u001b[0m\u001b[0;34m,\u001b[0m \u001b[0;34m'rb'\u001b[0m\u001b[0;34m)\u001b[0m \u001b[0;32mas\u001b[0m \u001b[0mfile\u001b[0m\u001b[0;34m:\u001b[0m\u001b[0;34m\u001b[0m\u001b[0;34m\u001b[0m\u001b[0m\n\u001b[1;32m      6\u001b[0m     \u001b[0;31m# model = pickle.load(file)\u001b[0m\u001b[0;34m\u001b[0m\u001b[0;34m\u001b[0m\u001b[0m\n\u001b[0;32m----> 7\u001b[0;31m     \u001b[0mmodel\u001b[0m \u001b[0;34m=\u001b[0m \u001b[0mpickle\u001b[0m\u001b[0;34m.\u001b[0m\u001b[0mload\u001b[0m\u001b[0;34m(\u001b[0m\u001b[0mfile\u001b[0m\u001b[0;34m)\u001b[0m\u001b[0;34m\u001b[0m\u001b[0;34m\u001b[0m\u001b[0m\n\u001b[0m",
            "\u001b[0;32m/usr/local/lib/python3.10/dist-packages/torch/storage.py\u001b[0m in \u001b[0;36m_load_from_bytes\u001b[0;34m(b)\u001b[0m\n\u001b[1;32m    335\u001b[0m \u001b[0;34m\u001b[0m\u001b[0m\n\u001b[1;32m    336\u001b[0m \u001b[0;32mdef\u001b[0m \u001b[0m_load_from_bytes\u001b[0m\u001b[0;34m(\u001b[0m\u001b[0mb\u001b[0m\u001b[0;34m)\u001b[0m\u001b[0;34m:\u001b[0m\u001b[0;34m\u001b[0m\u001b[0;34m\u001b[0m\u001b[0m\n\u001b[0;32m--> 337\u001b[0;31m     \u001b[0;32mreturn\u001b[0m \u001b[0mtorch\u001b[0m\u001b[0;34m.\u001b[0m\u001b[0mload\u001b[0m\u001b[0;34m(\u001b[0m\u001b[0mio\u001b[0m\u001b[0;34m.\u001b[0m\u001b[0mBytesIO\u001b[0m\u001b[0;34m(\u001b[0m\u001b[0mb\u001b[0m\u001b[0;34m)\u001b[0m\u001b[0;34m)\u001b[0m\u001b[0;34m\u001b[0m\u001b[0;34m\u001b[0m\u001b[0m\n\u001b[0m\u001b[1;32m    338\u001b[0m \u001b[0;34m\u001b[0m\u001b[0m\n\u001b[1;32m    339\u001b[0m \u001b[0;34m\u001b[0m\u001b[0m\n",
            "\u001b[0;32m/usr/local/lib/python3.10/dist-packages/torch/serialization.py\u001b[0m in \u001b[0;36mload\u001b[0;34m(f, map_location, pickle_module, weights_only, mmap, **pickle_load_args)\u001b[0m\n\u001b[1;32m   1026\u001b[0m             \u001b[0;32mexcept\u001b[0m \u001b[0mRuntimeError\u001b[0m \u001b[0;32mas\u001b[0m \u001b[0me\u001b[0m\u001b[0;34m:\u001b[0m\u001b[0;34m\u001b[0m\u001b[0;34m\u001b[0m\u001b[0m\n\u001b[1;32m   1027\u001b[0m                 \u001b[0;32mraise\u001b[0m \u001b[0mpickle\u001b[0m\u001b[0;34m.\u001b[0m\u001b[0mUnpicklingError\u001b[0m\u001b[0;34m(\u001b[0m\u001b[0mUNSAFE_MESSAGE\u001b[0m \u001b[0;34m+\u001b[0m \u001b[0mstr\u001b[0m\u001b[0;34m(\u001b[0m\u001b[0me\u001b[0m\u001b[0;34m)\u001b[0m\u001b[0;34m)\u001b[0m \u001b[0;32mfrom\u001b[0m \u001b[0;32mNone\u001b[0m\u001b[0;34m\u001b[0m\u001b[0;34m\u001b[0m\u001b[0m\n\u001b[0;32m-> 1028\u001b[0;31m         \u001b[0;32mreturn\u001b[0m \u001b[0m_legacy_load\u001b[0m\u001b[0;34m(\u001b[0m\u001b[0mopened_file\u001b[0m\u001b[0;34m,\u001b[0m \u001b[0mmap_location\u001b[0m\u001b[0;34m,\u001b[0m \u001b[0mpickle_module\u001b[0m\u001b[0;34m,\u001b[0m \u001b[0;34m**\u001b[0m\u001b[0mpickle_load_args\u001b[0m\u001b[0;34m)\u001b[0m\u001b[0;34m\u001b[0m\u001b[0;34m\u001b[0m\u001b[0m\n\u001b[0m\u001b[1;32m   1029\u001b[0m \u001b[0;34m\u001b[0m\u001b[0m\n\u001b[1;32m   1030\u001b[0m \u001b[0;34m\u001b[0m\u001b[0m\n",
            "\u001b[0;32m/usr/local/lib/python3.10/dist-packages/torch/serialization.py\u001b[0m in \u001b[0;36m_legacy_load\u001b[0;34m(f, map_location, pickle_module, **pickle_load_args)\u001b[0m\n\u001b[1;32m   1254\u001b[0m     \u001b[0munpickler\u001b[0m \u001b[0;34m=\u001b[0m \u001b[0mUnpicklerWrapper\u001b[0m\u001b[0;34m(\u001b[0m\u001b[0mf\u001b[0m\u001b[0;34m,\u001b[0m \u001b[0;34m**\u001b[0m\u001b[0mpickle_load_args\u001b[0m\u001b[0;34m)\u001b[0m\u001b[0;34m\u001b[0m\u001b[0;34m\u001b[0m\u001b[0m\n\u001b[1;32m   1255\u001b[0m     \u001b[0munpickler\u001b[0m\u001b[0;34m.\u001b[0m\u001b[0mpersistent_load\u001b[0m \u001b[0;34m=\u001b[0m \u001b[0mpersistent_load\u001b[0m\u001b[0;34m\u001b[0m\u001b[0;34m\u001b[0m\u001b[0m\n\u001b[0;32m-> 1256\u001b[0;31m     \u001b[0mresult\u001b[0m \u001b[0;34m=\u001b[0m \u001b[0munpickler\u001b[0m\u001b[0;34m.\u001b[0m\u001b[0mload\u001b[0m\u001b[0;34m(\u001b[0m\u001b[0;34m)\u001b[0m\u001b[0;34m\u001b[0m\u001b[0;34m\u001b[0m\u001b[0m\n\u001b[0m\u001b[1;32m   1257\u001b[0m \u001b[0;34m\u001b[0m\u001b[0m\n\u001b[1;32m   1258\u001b[0m     \u001b[0mdeserialized_storage_keys\u001b[0m \u001b[0;34m=\u001b[0m \u001b[0mpickle_module\u001b[0m\u001b[0;34m.\u001b[0m\u001b[0mload\u001b[0m\u001b[0;34m(\u001b[0m\u001b[0mf\u001b[0m\u001b[0;34m,\u001b[0m \u001b[0;34m**\u001b[0m\u001b[0mpickle_load_args\u001b[0m\u001b[0;34m)\u001b[0m\u001b[0;34m\u001b[0m\u001b[0;34m\u001b[0m\u001b[0m\n",
            "\u001b[0;32m/usr/local/lib/python3.10/dist-packages/torch/serialization.py\u001b[0m in \u001b[0;36mpersistent_load\u001b[0;34m(saved_id)\u001b[0m\n\u001b[1;32m   1191\u001b[0m                 \u001b[0;31m# stop wrapping with TypedStorage\u001b[0m\u001b[0;34m\u001b[0m\u001b[0;34m\u001b[0m\u001b[0m\n\u001b[1;32m   1192\u001b[0m                 typed_storage = torch.storage.TypedStorage(\n\u001b[0;32m-> 1193\u001b[0;31m                     \u001b[0mwrap_storage\u001b[0m\u001b[0;34m=\u001b[0m\u001b[0mrestore_location\u001b[0m\u001b[0;34m(\u001b[0m\u001b[0mobj\u001b[0m\u001b[0;34m,\u001b[0m \u001b[0mlocation\u001b[0m\u001b[0;34m)\u001b[0m\u001b[0;34m,\u001b[0m\u001b[0;34m\u001b[0m\u001b[0;34m\u001b[0m\u001b[0m\n\u001b[0m\u001b[1;32m   1194\u001b[0m                     \u001b[0mdtype\u001b[0m\u001b[0;34m=\u001b[0m\u001b[0mdtype\u001b[0m\u001b[0;34m,\u001b[0m\u001b[0;34m\u001b[0m\u001b[0;34m\u001b[0m\u001b[0m\n\u001b[1;32m   1195\u001b[0m                     _internal=True)\n",
            "\u001b[0;32m/usr/local/lib/python3.10/dist-packages/torch/serialization.py\u001b[0m in \u001b[0;36mdefault_restore_location\u001b[0;34m(storage, location)\u001b[0m\n\u001b[1;32m    379\u001b[0m \u001b[0;32mdef\u001b[0m \u001b[0mdefault_restore_location\u001b[0m\u001b[0;34m(\u001b[0m\u001b[0mstorage\u001b[0m\u001b[0;34m,\u001b[0m \u001b[0mlocation\u001b[0m\u001b[0;34m)\u001b[0m\u001b[0;34m:\u001b[0m\u001b[0;34m\u001b[0m\u001b[0;34m\u001b[0m\u001b[0m\n\u001b[1;32m    380\u001b[0m     \u001b[0;32mfor\u001b[0m \u001b[0m_\u001b[0m\u001b[0;34m,\u001b[0m \u001b[0m_\u001b[0m\u001b[0;34m,\u001b[0m \u001b[0mfn\u001b[0m \u001b[0;32min\u001b[0m \u001b[0m_package_registry\u001b[0m\u001b[0;34m:\u001b[0m\u001b[0;34m\u001b[0m\u001b[0;34m\u001b[0m\u001b[0m\n\u001b[0;32m--> 381\u001b[0;31m         \u001b[0mresult\u001b[0m \u001b[0;34m=\u001b[0m \u001b[0mfn\u001b[0m\u001b[0;34m(\u001b[0m\u001b[0mstorage\u001b[0m\u001b[0;34m,\u001b[0m \u001b[0mlocation\u001b[0m\u001b[0;34m)\u001b[0m\u001b[0;34m\u001b[0m\u001b[0;34m\u001b[0m\u001b[0m\n\u001b[0m\u001b[1;32m    382\u001b[0m         \u001b[0;32mif\u001b[0m \u001b[0mresult\u001b[0m \u001b[0;32mis\u001b[0m \u001b[0;32mnot\u001b[0m \u001b[0;32mNone\u001b[0m\u001b[0;34m:\u001b[0m\u001b[0;34m\u001b[0m\u001b[0;34m\u001b[0m\u001b[0m\n\u001b[1;32m    383\u001b[0m             \u001b[0;32mreturn\u001b[0m \u001b[0mresult\u001b[0m\u001b[0;34m\u001b[0m\u001b[0;34m\u001b[0m\u001b[0m\n",
            "\u001b[0;32m/usr/local/lib/python3.10/dist-packages/torch/serialization.py\u001b[0m in \u001b[0;36m_cuda_deserialize\u001b[0;34m(obj, location)\u001b[0m\n\u001b[1;32m    272\u001b[0m \u001b[0;32mdef\u001b[0m \u001b[0m_cuda_deserialize\u001b[0m\u001b[0;34m(\u001b[0m\u001b[0mobj\u001b[0m\u001b[0;34m,\u001b[0m \u001b[0mlocation\u001b[0m\u001b[0;34m)\u001b[0m\u001b[0;34m:\u001b[0m\u001b[0;34m\u001b[0m\u001b[0;34m\u001b[0m\u001b[0m\n\u001b[1;32m    273\u001b[0m     \u001b[0;32mif\u001b[0m \u001b[0mlocation\u001b[0m\u001b[0;34m.\u001b[0m\u001b[0mstartswith\u001b[0m\u001b[0;34m(\u001b[0m\u001b[0;34m'cuda'\u001b[0m\u001b[0;34m)\u001b[0m\u001b[0;34m:\u001b[0m\u001b[0;34m\u001b[0m\u001b[0;34m\u001b[0m\u001b[0m\n\u001b[0;32m--> 274\u001b[0;31m         \u001b[0mdevice\u001b[0m \u001b[0;34m=\u001b[0m \u001b[0mvalidate_cuda_device\u001b[0m\u001b[0;34m(\u001b[0m\u001b[0mlocation\u001b[0m\u001b[0;34m)\u001b[0m\u001b[0;34m\u001b[0m\u001b[0;34m\u001b[0m\u001b[0m\n\u001b[0m\u001b[1;32m    275\u001b[0m         \u001b[0;32mif\u001b[0m \u001b[0mgetattr\u001b[0m\u001b[0;34m(\u001b[0m\u001b[0mobj\u001b[0m\u001b[0;34m,\u001b[0m \u001b[0;34m\"_torch_load_uninitialized\"\u001b[0m\u001b[0;34m,\u001b[0m \u001b[0;32mFalse\u001b[0m\u001b[0;34m)\u001b[0m\u001b[0;34m:\u001b[0m\u001b[0;34m\u001b[0m\u001b[0;34m\u001b[0m\u001b[0m\n\u001b[1;32m    276\u001b[0m             \u001b[0;32mwith\u001b[0m \u001b[0mtorch\u001b[0m\u001b[0;34m.\u001b[0m\u001b[0mcuda\u001b[0m\u001b[0;34m.\u001b[0m\u001b[0mdevice\u001b[0m\u001b[0;34m(\u001b[0m\u001b[0mdevice\u001b[0m\u001b[0;34m)\u001b[0m\u001b[0;34m:\u001b[0m\u001b[0;34m\u001b[0m\u001b[0;34m\u001b[0m\u001b[0m\n",
            "\u001b[0;32m/usr/local/lib/python3.10/dist-packages/torch/serialization.py\u001b[0m in \u001b[0;36mvalidate_cuda_device\u001b[0;34m(location)\u001b[0m\n\u001b[1;32m    256\u001b[0m \u001b[0;34m\u001b[0m\u001b[0m\n\u001b[1;32m    257\u001b[0m     \u001b[0;32mif\u001b[0m \u001b[0;32mnot\u001b[0m \u001b[0mtorch\u001b[0m\u001b[0;34m.\u001b[0m\u001b[0mcuda\u001b[0m\u001b[0;34m.\u001b[0m\u001b[0mis_available\u001b[0m\u001b[0;34m(\u001b[0m\u001b[0;34m)\u001b[0m\u001b[0;34m:\u001b[0m\u001b[0;34m\u001b[0m\u001b[0;34m\u001b[0m\u001b[0m\n\u001b[0;32m--> 258\u001b[0;31m         raise RuntimeError('Attempting to deserialize object on a CUDA '\n\u001b[0m\u001b[1;32m    259\u001b[0m                            \u001b[0;34m'device but torch.cuda.is_available() is False. '\u001b[0m\u001b[0;34m\u001b[0m\u001b[0;34m\u001b[0m\u001b[0m\n\u001b[1;32m    260\u001b[0m                            \u001b[0;34m'If you are running on a CPU-only machine, '\u001b[0m\u001b[0;34m\u001b[0m\u001b[0;34m\u001b[0m\u001b[0m\n",
            "\u001b[0;31mRuntimeError\u001b[0m: Attempting to deserialize object on a CUDA device but torch.cuda.is_available() is False. If you are running on a CPU-only machine, please use torch.load with map_location=torch.device('cpu') to map your storages to the CPU."
          ]
        }
      ]
    },
    {
      "cell_type": "code",
      "source": [
        "# pip install datasets\n"
      ],
      "metadata": {
        "id": "qs59mC7iD6JA"
      },
      "execution_count": null,
      "outputs": []
    },
    {
      "cell_type": "code",
      "source": [
        "# from datasets import load_dataset\n",
        "\n",
        "# # Carregando o dataset \"alkzar90/NIH-Chest-X-ray-dataset\"\n",
        "# dataset = load_dataset(\"alkzar90/NIH-Chest-X-ray-dataset\", 'image-classification' )\n",
        "\n",
        "# # Acessando os dados de treinamento\n",
        "# train_data = dataset[\"train\"]\n",
        "\n",
        "# # Imprimindo algumas informações\n",
        "# print(f\"Número de exemplos no conjunto de treinamento: {len(train_data)}\")\n",
        "# print(f\"Exemplo de texto: {train_data[0]['text']}\")\n",
        "# print(f\"Rótulo do exemplo: {train_data[0]['label']}\")\n"
      ],
      "metadata": {
        "id": "MEe866skEAwU"
      },
      "execution_count": null,
      "outputs": []
    }
  ]
}