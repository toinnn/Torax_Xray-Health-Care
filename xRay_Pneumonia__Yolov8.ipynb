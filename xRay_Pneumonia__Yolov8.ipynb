{
  "nbformat": 4,
  "nbformat_minor": 0,
  "metadata": {
    "colab": {
      "provenance": [],
      "include_colab_link": true
    },
    "kernelspec": {
      "name": "python3",
      "display_name": "Python 3"
    },
    "language_info": {
      "name": "python"
    }
  },
  "cells": [
    {
      "cell_type": "markdown",
      "metadata": {
        "id": "view-in-github",
        "colab_type": "text"
      },
      "source": [
        "<a href=\"https://colab.research.google.com/github/toinnn/Torax_Xray-Health-Care/blob/main/xRay_Pneumonia__Yolov8.ipynb\" target=\"_parent\"><img src=\"https://colab.research.google.com/assets/colab-badge.svg\" alt=\"Open In Colab\"/></a>"
      ]
    },
    {
      "cell_type": "code",
      "source": [
        "from google.colab import drive\n",
        "drive.mount('/content/drive')"
      ],
      "metadata": {
        "colab": {
          "base_uri": "https://localhost:8080/"
        },
        "id": "dWIYlEfQ736Z",
        "outputId": "d5eff0a6-9d46-4817-a92c-821744040aca"
      },
      "execution_count": 1,
      "outputs": [
        {
          "output_type": "stream",
          "name": "stdout",
          "text": [
            "Mounted at /content/drive\n"
          ]
        }
      ]
    },
    {
      "cell_type": "code",
      "execution_count": 2,
      "metadata": {
        "colab": {
          "base_uri": "https://localhost:8080/"
        },
        "id": "gpqGO2ek7tZv",
        "outputId": "cd25f206-63a8-4c5b-d321-db9ec0f4c091"
      },
      "outputs": [
        {
          "output_type": "stream",
          "name": "stdout",
          "text": [
            "Collecting ultralytics\n",
            "  Downloading ultralytics-8.0.227-py3-none-any.whl (660 kB)\n",
            "\u001b[2K     \u001b[90m━━━━━━━━━━━━━━━━━━━━━━━━━━━━━━━━━━━━━━━━\u001b[0m \u001b[32m660.5/660.5 kB\u001b[0m \u001b[31m3.3 MB/s\u001b[0m eta \u001b[36m0:00:00\u001b[0m\n",
            "\u001b[?25hRequirement already satisfied: matplotlib>=3.3.0 in /usr/local/lib/python3.10/dist-packages (from ultralytics) (3.7.1)\n",
            "Requirement already satisfied: numpy>=1.22.2 in /usr/local/lib/python3.10/dist-packages (from ultralytics) (1.23.5)\n",
            "Requirement already satisfied: opencv-python>=4.6.0 in /usr/local/lib/python3.10/dist-packages (from ultralytics) (4.8.0.76)\n",
            "Requirement already satisfied: pillow>=7.1.2 in /usr/local/lib/python3.10/dist-packages (from ultralytics) (9.4.0)\n",
            "Requirement already satisfied: pyyaml>=5.3.1 in /usr/local/lib/python3.10/dist-packages (from ultralytics) (6.0.1)\n",
            "Requirement already satisfied: requests>=2.23.0 in /usr/local/lib/python3.10/dist-packages (from ultralytics) (2.31.0)\n",
            "Requirement already satisfied: scipy>=1.4.1 in /usr/local/lib/python3.10/dist-packages (from ultralytics) (1.11.4)\n",
            "Requirement already satisfied: torch>=1.8.0 in /usr/local/lib/python3.10/dist-packages (from ultralytics) (2.1.0+cu118)\n",
            "Requirement already satisfied: torchvision>=0.9.0 in /usr/local/lib/python3.10/dist-packages (from ultralytics) (0.16.0+cu118)\n",
            "Requirement already satisfied: tqdm>=4.64.0 in /usr/local/lib/python3.10/dist-packages (from ultralytics) (4.66.1)\n",
            "Requirement already satisfied: pandas>=1.1.4 in /usr/local/lib/python3.10/dist-packages (from ultralytics) (1.5.3)\n",
            "Requirement already satisfied: seaborn>=0.11.0 in /usr/local/lib/python3.10/dist-packages (from ultralytics) (0.12.2)\n",
            "Requirement already satisfied: psutil in /usr/local/lib/python3.10/dist-packages (from ultralytics) (5.9.5)\n",
            "Requirement already satisfied: py-cpuinfo in /usr/local/lib/python3.10/dist-packages (from ultralytics) (9.0.0)\n",
            "Collecting thop>=0.1.1 (from ultralytics)\n",
            "  Downloading thop-0.1.1.post2209072238-py3-none-any.whl (15 kB)\n",
            "Requirement already satisfied: contourpy>=1.0.1 in /usr/local/lib/python3.10/dist-packages (from matplotlib>=3.3.0->ultralytics) (1.2.0)\n",
            "Requirement already satisfied: cycler>=0.10 in /usr/local/lib/python3.10/dist-packages (from matplotlib>=3.3.0->ultralytics) (0.12.1)\n",
            "Requirement already satisfied: fonttools>=4.22.0 in /usr/local/lib/python3.10/dist-packages (from matplotlib>=3.3.0->ultralytics) (4.46.0)\n",
            "Requirement already satisfied: kiwisolver>=1.0.1 in /usr/local/lib/python3.10/dist-packages (from matplotlib>=3.3.0->ultralytics) (1.4.5)\n",
            "Requirement already satisfied: packaging>=20.0 in /usr/local/lib/python3.10/dist-packages (from matplotlib>=3.3.0->ultralytics) (23.2)\n",
            "Requirement already satisfied: pyparsing>=2.3.1 in /usr/local/lib/python3.10/dist-packages (from matplotlib>=3.3.0->ultralytics) (3.1.1)\n",
            "Requirement already satisfied: python-dateutil>=2.7 in /usr/local/lib/python3.10/dist-packages (from matplotlib>=3.3.0->ultralytics) (2.8.2)\n",
            "Requirement already satisfied: pytz>=2020.1 in /usr/local/lib/python3.10/dist-packages (from pandas>=1.1.4->ultralytics) (2023.3.post1)\n",
            "Requirement already satisfied: charset-normalizer<4,>=2 in /usr/local/lib/python3.10/dist-packages (from requests>=2.23.0->ultralytics) (3.3.2)\n",
            "Requirement already satisfied: idna<4,>=2.5 in /usr/local/lib/python3.10/dist-packages (from requests>=2.23.0->ultralytics) (3.6)\n",
            "Requirement already satisfied: urllib3<3,>=1.21.1 in /usr/local/lib/python3.10/dist-packages (from requests>=2.23.0->ultralytics) (2.0.7)\n",
            "Requirement already satisfied: certifi>=2017.4.17 in /usr/local/lib/python3.10/dist-packages (from requests>=2.23.0->ultralytics) (2023.11.17)\n",
            "Requirement already satisfied: filelock in /usr/local/lib/python3.10/dist-packages (from torch>=1.8.0->ultralytics) (3.13.1)\n",
            "Requirement already satisfied: typing-extensions in /usr/local/lib/python3.10/dist-packages (from torch>=1.8.0->ultralytics) (4.5.0)\n",
            "Requirement already satisfied: sympy in /usr/local/lib/python3.10/dist-packages (from torch>=1.8.0->ultralytics) (1.12)\n",
            "Requirement already satisfied: networkx in /usr/local/lib/python3.10/dist-packages (from torch>=1.8.0->ultralytics) (3.2.1)\n",
            "Requirement already satisfied: jinja2 in /usr/local/lib/python3.10/dist-packages (from torch>=1.8.0->ultralytics) (3.1.2)\n",
            "Requirement already satisfied: fsspec in /usr/local/lib/python3.10/dist-packages (from torch>=1.8.0->ultralytics) (2023.6.0)\n",
            "Requirement already satisfied: triton==2.1.0 in /usr/local/lib/python3.10/dist-packages (from torch>=1.8.0->ultralytics) (2.1.0)\n",
            "Requirement already satisfied: six>=1.5 in /usr/local/lib/python3.10/dist-packages (from python-dateutil>=2.7->matplotlib>=3.3.0->ultralytics) (1.16.0)\n",
            "Requirement already satisfied: MarkupSafe>=2.0 in /usr/local/lib/python3.10/dist-packages (from jinja2->torch>=1.8.0->ultralytics) (2.1.3)\n",
            "Requirement already satisfied: mpmath>=0.19 in /usr/local/lib/python3.10/dist-packages (from sympy->torch>=1.8.0->ultralytics) (1.3.0)\n",
            "Installing collected packages: thop, ultralytics\n",
            "Successfully installed thop-0.1.1.post2209072238 ultralytics-8.0.227\n"
          ]
        }
      ],
      "source": [
        "!pip install ultralytics"
      ]
    },
    {
      "cell_type": "code",
      "source": [
        "from ultralytics import YOLO , settings\n",
        "settings\n"
      ],
      "metadata": {
        "colab": {
          "base_uri": "https://localhost:8080/"
        },
        "id": "7Icv9IQJ7-IR",
        "outputId": "8feacdfb-f222-46dd-b9d6-63387509cf3a"
      },
      "execution_count": 3,
      "outputs": [
        {
          "output_type": "execute_result",
          "data": {
            "text/plain": [
              "{'settings_version': '0.0.4',\n",
              " 'datasets_dir': '/content/datasets',\n",
              " 'weights_dir': 'weights',\n",
              " 'runs_dir': 'runs',\n",
              " 'uuid': '569f3ba64b326db489132663f79cd37279811de477381b83ac131e6cdd129cbb',\n",
              " 'sync': True,\n",
              " 'api_key': '',\n",
              " 'clearml': True,\n",
              " 'comet': True,\n",
              " 'dvc': True,\n",
              " 'hub': True,\n",
              " 'mlflow': True,\n",
              " 'neptune': True,\n",
              " 'raytune': True,\n",
              " 'tensorboard': True,\n",
              " 'wandb': True}"
            ]
          },
          "metadata": {},
          "execution_count": 3
        }
      ]
    },
    {
      "cell_type": "code",
      "source": [
        "# YAML_descriptor = \"/content/drive/MyDrive/Dataset_work_space/Torax_Xray/Yolo_Object_Detection/Cardiomegalia/data.yaml\"\n",
        "# %cd \"/content/drive/MyDrive/Dataset_work_space/Torax_Xray/Yolo_Object_Detection/Cardiomegalia\"\n",
        "\n",
        "\n",
        "\n",
        "#versão normal :\n",
        "path = \"/content/drive/Othercomputers/Meu laptop/Dataset_work_space/Torax_Xray_Pneumonia/chest_xray\"\n",
        "%cd \"/content/drive/Othercomputers/Meu laptop/Dataset_work_space/Torax_Xray_Pneumonia/chest_xray\"\n",
        "\n",
        "#VERSÃO DO @ALU.UFC.BR :\n",
        "# path = \"/content/drive/MyDrive/Dataset_work_space/Torax_Xray_Pneumonia/chest_xray\"\n",
        "# %cd \"/content/drive/MyDrive/Dataset_work_space/Torax_Xray_Pneumonia/chest_xray\"\n",
        "\n",
        "\n",
        "\n",
        "settings.update({'runs_dir': './runs'})"
      ],
      "metadata": {
        "colab": {
          "base_uri": "https://localhost:8080/"
        },
        "id": "Yv0bBs7f8DS-",
        "outputId": "dde4a255-46d9-40af-a484-470cc3498c0d"
      },
      "execution_count": 4,
      "outputs": [
        {
          "output_type": "stream",
          "name": "stdout",
          "text": [
            "/content/drive/Othercomputers/Meu laptop/Dataset_work_space/Torax_Xray_Pneumonia/chest_xray\n"
          ]
        }
      ]
    },
    {
      "cell_type": "code",
      "source": [
        "path"
      ],
      "metadata": {
        "colab": {
          "base_uri": "https://localhost:8080/",
          "height": 35
        },
        "id": "R8jS5gQUC8k6",
        "outputId": "b9d81f5b-3aa3-4fb3-ada5-7b4c0402d068"
      },
      "execution_count": 5,
      "outputs": [
        {
          "output_type": "execute_result",
          "data": {
            "text/plain": [
              "'/content/drive/Othercomputers/Meu laptop/Dataset_work_space/Torax_Xray_Pneumonia/chest_xray'"
            ],
            "application/vnd.google.colaboratory.intrinsic+json": {
              "type": "string"
            }
          },
          "metadata": {},
          "execution_count": 5
        }
      ]
    },
    {
      "cell_type": "code",
      "source": [
        "model = YOLO(\"yolov8s-cls.pt\")\n",
        "\n",
        "model.train(data=path,\n",
        "            epochs  = 8,\n",
        "            patience=4,\n",
        "            resume=False,  # resume training from last checkpoint\n",
        "            # single_cls=False,\n",
        "            workers = 2,\n",
        "            batch = 42,\n",
        "            imgsz = 640 ,#1024,\n",
        "            pretrained = True,\n",
        "            # dfl = 1.5,\n",
        "            val=True,\n",
        "            degrees=.3,\n",
        "            fliplr=.5,\n",
        "            hsv_s = .7,\n",
        "            hsv_v = .4\n",
        "            )"
      ],
      "metadata": {
        "colab": {
          "base_uri": "https://localhost:8080/"
        },
        "id": "zgUW87MZ8L7q",
        "outputId": "d76d003d-238a-48c0-998a-390292f3c8f3"
      },
      "execution_count": null,
      "outputs": [
        {
          "output_type": "stream",
          "name": "stdout",
          "text": [
            "Ultralytics YOLOv8.0.227 🚀 Python-3.10.12 torch-2.1.0+cu118 CUDA:0 (Tesla T4, 15102MiB)\n",
            "\u001b[34m\u001b[1mengine/trainer: \u001b[0mtask=classify, mode=train, model=yolov8s-cls.pt, data=/content/drive/Othercomputers/Meu laptop/Dataset_work_space/Torax_Xray_Pneumonia/chest_xray, epochs=8, patience=4, batch=42, imgsz=640, save=True, save_period=-1, cache=False, device=None, workers=2, project=None, name=train9, exist_ok=False, pretrained=True, optimizer=auto, verbose=True, seed=0, deterministic=True, single_cls=False, rect=False, cos_lr=False, close_mosaic=10, resume=False, amp=True, fraction=1.0, profile=False, freeze=None, overlap_mask=True, mask_ratio=4, dropout=0.0, val=True, split=val, save_json=False, save_hybrid=False, conf=None, iou=0.7, max_det=300, half=False, dnn=False, plots=True, source=None, vid_stride=1, stream_buffer=False, visualize=False, augment=False, agnostic_nms=False, classes=None, retina_masks=False, show=False, save_frames=False, save_txt=False, save_conf=False, save_crop=False, show_labels=True, show_conf=True, show_boxes=True, line_width=None, format=torchscript, keras=False, optimize=False, int8=False, dynamic=False, simplify=False, opset=None, workspace=4, nms=False, lr0=0.01, lrf=0.01, momentum=0.937, weight_decay=0.0005, warmup_epochs=3.0, warmup_momentum=0.8, warmup_bias_lr=0.1, box=7.5, cls=0.5, dfl=1.5, pose=12.0, kobj=1.0, label_smoothing=0.0, nbs=64, hsv_h=0.015, hsv_s=0.7, hsv_v=0.4, degrees=0.3, translate=0.1, scale=0.5, shear=0.0, perspective=0.0, flipud=0.0, fliplr=0.5, mosaic=1.0, mixup=0.0, copy_paste=0.0, cfg=None, tracker=botsort.yaml, save_dir=runs/classify/train9\n",
            "\u001b[34m\u001b[1mtrain:\u001b[0m /content/drive/Othercomputers/Meu laptop/Dataset_work_space/Torax_Xray_Pneumonia/chest_xray/train... found 5216 images in 2 classes ✅ \n",
            "\u001b[34m\u001b[1mval:\u001b[0m /content/drive/Othercomputers/Meu laptop/Dataset_work_space/Torax_Xray_Pneumonia/chest_xray/val... found 16 images in 2 classes ✅ \n",
            "\u001b[34m\u001b[1mtest:\u001b[0m /content/drive/Othercomputers/Meu laptop/Dataset_work_space/Torax_Xray_Pneumonia/chest_xray/test... found 624 images in 2 classes ✅ \n",
            "Overriding model.yaml nc=1000 with nc=2\n",
            "\n",
            "                   from  n    params  module                                       arguments                     \n",
            "  0                  -1  1       928  ultralytics.nn.modules.conv.Conv             [3, 32, 3, 2]                 \n",
            "  1                  -1  1     18560  ultralytics.nn.modules.conv.Conv             [32, 64, 3, 2]                \n",
            "  2                  -1  1     29056  ultralytics.nn.modules.block.C2f             [64, 64, 1, True]             \n",
            "  3                  -1  1     73984  ultralytics.nn.modules.conv.Conv             [64, 128, 3, 2]               \n",
            "  4                  -1  2    197632  ultralytics.nn.modules.block.C2f             [128, 128, 2, True]           \n",
            "  5                  -1  1    295424  ultralytics.nn.modules.conv.Conv             [128, 256, 3, 2]              \n",
            "  6                  -1  2    788480  ultralytics.nn.modules.block.C2f             [256, 256, 2, True]           \n",
            "  7                  -1  1   1180672  ultralytics.nn.modules.conv.Conv             [256, 512, 3, 2]              \n",
            "  8                  -1  1   1838080  ultralytics.nn.modules.block.C2f             [512, 512, 1, True]           \n",
            "  9                  -1  1    660482  ultralytics.nn.modules.head.Classify         [512, 2]                      \n",
            "YOLOv8s-cls summary: 99 layers, 5083298 parameters, 5083298 gradients, 12.6 GFLOPs\n",
            "Transferred 156/158 items from pretrained weights\n",
            "\u001b[34m\u001b[1mTensorBoard: \u001b[0mStart with 'tensorboard --logdir runs/classify/train9', view at http://localhost:6006/\n",
            "\u001b[34m\u001b[1mAMP: \u001b[0mrunning Automatic Mixed Precision (AMP) checks with YOLOv8n...\n",
            "\u001b[34m\u001b[1mAMP: \u001b[0mchecks passed ✅\n"
          ]
        },
        {
          "output_type": "stream",
          "name": "stderr",
          "text": [
            "\u001b[34m\u001b[1mtrain: \u001b[0mScanning /content/drive/Othercomputers/Meu laptop/Dataset_work_space/Torax_Xray_Pneumonia/chest_xray/train... 5216 images, 0 corrupt: 100%|██████████| 5216/5216 [00:00<?, ?it/s]\n"
          ]
        },
        {
          "output_type": "stream",
          "name": "stdout",
          "text": [
            "\u001b[34m\u001b[1malbumentations: \u001b[0mRandomResizedCrop(p=1.0, height=640, width=640, scale=(0.5, 1.0), ratio=(0.75, 1.3333333333333333), interpolation=1), HorizontalFlip(p=0.5), ColorJitter(p=0.5, brightness=[0.6, 1.4], contrast=[0.6, 1.4], saturation=[0.30000000000000004, 1.7], hue=[-0.015, 0.015]), Normalize(p=1.0, mean=(0.0, 0.0, 0.0), std=(1.0, 1.0, 1.0), max_pixel_value=255.0), ToTensorV2(always_apply=True, p=1.0, transpose_mask=False)\n"
          ]
        },
        {
          "output_type": "stream",
          "name": "stderr",
          "text": [
            "\u001b[34m\u001b[1mval: \u001b[0mScanning /content/drive/Othercomputers/Meu laptop/Dataset_work_space/Torax_Xray_Pneumonia/chest_xray/val... 16 images, 0 corrupt: 100%|██████████| 16/16 [00:00<?, ?it/s]\n"
          ]
        },
        {
          "output_type": "stream",
          "name": "stdout",
          "text": [
            "\u001b[34m\u001b[1moptimizer:\u001b[0m 'optimizer=auto' found, ignoring 'lr0=0.01' and 'momentum=0.937' and determining best 'optimizer', 'lr0' and 'momentum' automatically... \n",
            "\u001b[34m\u001b[1moptimizer:\u001b[0m AdamW(lr=0.000714, momentum=0.9) with parameter groups 26 weight(decay=0.0), 27 weight(decay=0.00065625), 27 bias(decay=0.0)\n",
            "Image sizes 640 train, 640 val\n",
            "Using 2 dataloader workers\n",
            "Logging results to \u001b[1mruns/classify/train9\u001b[0m\n",
            "Starting training for 8 epochs...\n",
            "\n",
            "      Epoch    GPU_mem       loss  Instances       Size\n"
          ]
        },
        {
          "output_type": "stream",
          "name": "stderr",
          "text": [
            "        1/8      6.77G      0.518         42        640:  30%|███       | 38/125 [01:01<01:53,  1.30s/it]"
          ]
        }
      ]
    },
    {
      "cell_type": "markdown",
      "source": [
        "# Teste :"
      ],
      "metadata": {
        "id": "2yfcc-oG9pXd"
      }
    },
    {
      "cell_type": "code",
      "source": [
        "# model = YOLO('runs/classify/train3/weights/best.pt') #Modelo M\n",
        "model = YOLO('runs/classify/train7/weights/best.pt') #Modelo N ou S (não lembro)"
      ],
      "metadata": {
        "id": "4ug1tM-Z7qBR"
      },
      "execution_count": 50,
      "outputs": []
    },
    {
      "cell_type": "code",
      "source": [
        "results = model.val(project='runs/detect',\n",
        "                    imgsz=640,\n",
        "                    batch=1,\n",
        "                    # conf=0.001,\n",
        "                    #iou=0.7,  # Non-Maximum Supression (NMS)\n",
        "                    #save_json=False,  # Save to JSON {image_id, cls, bbox, conf} of each image in dataset\n",
        "                    #save_hybrid=False,  # Bounding box labels + inference on the output image (Ultralytics 8.0.178 = results are wrong when this argmunent is True)\n",
        "                    split='test')  # train, val or test"
      ],
      "metadata": {
        "id": "3lufi65D-Lvw",
        "colab": {
          "base_uri": "https://localhost:8080/"
        },
        "outputId": "0a0972ad-f5b7-4c32-cc34-4f7c60654703"
      },
      "execution_count": 51,
      "outputs": [
        {
          "output_type": "stream",
          "name": "stdout",
          "text": [
            "Ultralytics YOLOv8.0.227 🚀 Python-3.10.12 torch-2.1.0+cu118 CPU (Intel Xeon 2.20GHz)\n",
            "YOLOv8n-cls summary (fused): 73 layers, 1437442 parameters, 0 gradients, 3.3 GFLOPs\n",
            "\u001b[34m\u001b[1mtrain:\u001b[0m /content/drive/Othercomputers/Meu laptop/Dataset_work_space/Torax_Xray_Pneumonia/chest_xray/train... found 5216 images in 2 classes ✅ \n",
            "\u001b[34m\u001b[1mval:\u001b[0m /content/drive/Othercomputers/Meu laptop/Dataset_work_space/Torax_Xray_Pneumonia/chest_xray/val... found 16 images in 2 classes ✅ \n",
            "\u001b[34m\u001b[1mtest:\u001b[0m /content/drive/Othercomputers/Meu laptop/Dataset_work_space/Torax_Xray_Pneumonia/chest_xray/test... found 624 images in 2 classes ✅ \n"
          ]
        },
        {
          "output_type": "stream",
          "name": "stderr",
          "text": [
            "\u001b[34m\u001b[1mtest: \u001b[0mScanning /content/drive/Othercomputers/Meu laptop/Dataset_work_space/Torax_Xray_Pneumonia/chest_xray/test... 624 images, 0 corrupt: 100%|██████████| 624/624 [00:00<?, ?it/s]\n",
            "               classes   top1_acc   top5_acc:   0%|          | 2/624 [00:00<02:25,  4.27it/s]"
          ]
        },
        {
          "output_type": "stream",
          "name": "stdout",
          "text": [
            "Downloading https://ultralytics.com/assets/Arial.ttf to '/root/.config/Ultralytics/Arial.ttf'...\n"
          ]
        },
        {
          "output_type": "stream",
          "name": "stderr",
          "text": [
            "               classes   top1_acc   top5_acc:   0%|          | 3/624 [00:01<04:27,  2.32it/s]\n",
            "100%|██████████| 755k/755k [00:00<00:00, 13.0MB/s]\n",
            "               classes   top1_acc   top5_acc: 100%|██████████| 624/624 [02:29<00:00,  4.17it/s]\n"
          ]
        },
        {
          "output_type": "stream",
          "name": "stdout",
          "text": [
            "                   all      0.817          1\n",
            "Speed: 0.0ms preprocess, 78.2ms inference, 0.0ms loss, 0.0ms postprocess per image\n",
            "Results saved to \u001b[1mruns/detect/val6\u001b[0m\n"
          ]
        }
      ]
    },
    {
      "cell_type": "markdown",
      "source": [
        "# Predict :"
      ],
      "metadata": {
        "id": "hIvG9V2ZrKxA"
      }
    },
    {
      "cell_type": "code",
      "source": [
        "input = \"path ou list(path , path ,...), ou \"\n",
        "normal = \"/content/drive/Othercomputers/Meu laptop/Dataset_work_space/Torax_Xray_Pneumonia/chest_xray/test/NORMAL/IM-0003-0001.jpeg\"\n",
        "pneu = \"/content/drive/Othercomputers/Meu laptop/Dataset_work_space/Torax_Xray_Pneumonia/chest_xray/test/PNEUMONIA/person103_bacteria_488.jpeg\"\n",
        "normal2 = \"/content/drive/Othercomputers/Meu laptop/Dataset_work_space/Torax_Xray_Pneumonia/chest_xray/test/NORMAL/IM-0095-0001.jpeg\"\n",
        "pneu2 = \"/content/drive/Othercomputers/Meu laptop/Dataset_work_space/Torax_Xray_Pneumonia/chest_xray/test/PNEUMONIA/person109_bacteria_522.jpeg\"\n",
        "\n",
        "input = [normal , pneu , pneu2 , normal2]\n",
        "print(input)"
      ],
      "metadata": {
        "colab": {
          "base_uri": "https://localhost:8080/"
        },
        "id": "iiaYFeoIr-qN",
        "outputId": "b754b7d1-7a0f-45fd-a09a-f1ad8f3b343b"
      },
      "execution_count": 29,
      "outputs": [
        {
          "output_type": "stream",
          "name": "stdout",
          "text": [
            "['/content/drive/Othercomputers/Meu laptop/Dataset_work_space/Torax_Xray_Pneumonia/chest_xray/test/NORMAL/IM-0003-0001.jpeg', '/content/drive/Othercomputers/Meu laptop/Dataset_work_space/Torax_Xray_Pneumonia/chest_xray/test/PNEUMONIA/person103_bacteria_488.jpeg', '/content/drive/Othercomputers/Meu laptop/Dataset_work_space/Torax_Xray_Pneumonia/chest_xray/test/PNEUMONIA/person109_bacteria_522.jpeg', '/content/drive/Othercomputers/Meu laptop/Dataset_work_space/Torax_Xray_Pneumonia/chest_xray/test/NORMAL/IM-0095-0001.jpeg']\n"
          ]
        }
      ]
    },
    {
      "cell_type": "code",
      "source": [
        "out = model.predict(source=input , imgsz= 640 )"
      ],
      "metadata": {
        "id": "PAPpUjdgE8mG",
        "colab": {
          "base_uri": "https://localhost:8080/"
        },
        "outputId": "bc492db2-6bd8-4077-8c31-8c399cef0284"
      },
      "execution_count": 30,
      "outputs": [
        {
          "output_type": "stream",
          "name": "stdout",
          "text": [
            "\n",
            "0: 640x640 NORMAL 1.00, PNEUMONIA 0.00, 1: 640x640 PNEUMONIA 1.00, NORMAL 0.00, 2: 640x640 PNEUMONIA 1.00, NORMAL 0.00, 3: 640x640 NORMAL 0.84, PNEUMONIA 0.16, 3559.5ms\n",
            "Speed: 6.8ms preprocess, 889.9ms inference, 0.0ms postprocess per image at shape (1, 3, 640, 640)\n"
          ]
        }
      ]
    },
    {
      "cell_type": "code",
      "source": [
        "# print(out)\n",
        "label_cls = out[-1].names\n",
        "print(label_cls)\n",
        "\n",
        "\n",
        "cls = out[0].probs.top1\n",
        "\n",
        "label_cls[cls]"
      ],
      "metadata": {
        "colab": {
          "base_uri": "https://localhost:8080/",
          "height": 53
        },
        "id": "X145MdbWtbTb",
        "outputId": "f0a8e2aa-97e5-4807-9a42-b7854df213ee"
      },
      "execution_count": 49,
      "outputs": [
        {
          "output_type": "stream",
          "name": "stdout",
          "text": [
            "{0: 'NORMAL', 1: 'PNEUMONIA'}\n"
          ]
        },
        {
          "output_type": "execute_result",
          "data": {
            "text/plain": [
              "'NORMAL'"
            ],
            "application/vnd.google.colaboratory.intrinsic+json": {
              "type": "string"
            }
          },
          "metadata": {},
          "execution_count": 49
        }
      ]
    }
  ]
}